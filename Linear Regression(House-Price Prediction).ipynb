{
 "cells": [
  {
   "cell_type": "markdown",
   "id": "0eb51af1-b24c-42c1-a14e-3c43a474999a",
   "metadata": {},
   "source": [
    "## Task 1"
   ]
  },
  {
   "cell_type": "code",
   "execution_count": null,
   "id": "304513a4-ef07-4f3c-921d-14bbc4be04b4",
   "metadata": {},
   "outputs": [],
   "source": [
    "import pandas as pd\n",
    "from sklearn.model_selection import train_test_split\n",
    "from sklearn.linear_model import Linear_Regression\n",
    "from sklearn.metrics import mean_squared_error, r2_score\n",
    "\n",
    "data = pd.read_csv('House_data.csv')\n",
    "\n",
    "x = data[['SquareFootage', 'Bedrooms', 'Bathrooms']]\n",
    "y = data['price']\n",
    "\n",
    "x_train, x_test, y_train, y_test = train_test_split(x, y, test_size = 0.2, random_state = 42)\n",
    "\n",
    "print('Training set size',len(x_train))\n",
    "print('Testing set size', len(x_test))\n",
    "\n",
    "model = Linear_Regression()\n",
    "\n",
    "model.fit(x_train, y_train)\n",
    "\n",
    "mse = mean_squared_error(y_test, y_pred)\n",
    "r2 = r2_score(y_test, y_pred)\n",
    "\n",
    "print('Mean Squared Error(MSE)', mse)\n",
    "print('R-Squared (r2) Score', r2)\n",
    "\n",
    "New_house = pd.DataFrame({'SquareFootage': , \n",
    "                         'Bedrooms': ,\n",
    "                         'Bathrooms': })\n",
    "predicted_price = model.predict(New_house)\n",
    "print('Predicted value of the New house is', predicted_price)"
   ]
  }
 ],
 "metadata": {
  "kernelspec": {
   "display_name": "Python 3 (ipykernel)",
   "language": "python",
   "name": "python3"
  },
  "language_info": {
   "codemirror_mode": {
    "name": "ipython",
    "version": 3
   },
   "file_extension": ".py",
   "mimetype": "text/x-python",
   "name": "python",
   "nbconvert_exporter": "python",
   "pygments_lexer": "ipython3",
   "version": "3.13.5"
  }
 },
 "nbformat": 4,
 "nbformat_minor": 5
}
